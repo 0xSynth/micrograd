{
 "cells": [
  {
   "cell_type": "code",
   "execution_count": 2,
   "metadata": {},
   "outputs": [],
   "source": [
    "%load_ext autoreload\n",
    "%autoreload 2"
   ]
  },
  {
   "cell_type": "code",
   "execution_count": 3,
   "metadata": {},
   "outputs": [],
   "source": [
    "import math\n",
    "import numpy as np\n",
    "import matplotlib.pyplot as plt\n",
    "%matplotlib inline"
   ]
  },
  {
   "cell_type": "code",
   "execution_count": 4,
   "metadata": {},
   "outputs": [],
   "source": [
    "def f(x):\n",
    "    return 3*x**2 - 5*x + 5"
   ]
  },
  {
   "cell_type": "code",
   "execution_count": 5,
   "metadata": {},
   "outputs": [
    {
     "data": {
      "text/plain": [
       "117"
      ]
     },
     "execution_count": 5,
     "metadata": {},
     "output_type": "execute_result"
    }
   ],
   "source": [
    "f(7)"
   ]
  },
  {
   "cell_type": "code",
   "execution_count": 6,
   "metadata": {},
   "outputs": [
    {
     "data": {
      "text/plain": [
       "[<matplotlib.lines.Line2D at 0x7fd8a7926740>]"
      ]
     },
     "execution_count": 6,
     "metadata": {},
     "output_type": "execute_result"
    },
    {
     "data": {
      "image/png": "[encoded data removed]",
      "text/plain": [
       "<Figure size 432x288 with 1 Axes>"
      ]
     },
     "metadata": {
      "needs_background": "light"
     },
     "output_type": "display_data"
    }
   ],
   "source": [
    "xs = np.arange(-5, 5, 0.25)\n",
    "ys = f(xs)\n",
    "plt.plot(xs, ys)"
   ]
  },
  {
   "cell_type": "code",
   "execution_count": 7,
   "metadata": {},
   "outputs": [
    {
     "data": {
      "text/plain": [
       "13.000089893466793"
      ]
     },
     "execution_count": 7,
     "metadata": {},
     "output_type": "execute_result"
    }
   ],
   "source": [
    "h = 0.00000000001\n",
    "x = 3.0\n",
    "(f(x + h) - f(x)) / h #get the numerical approximation of the slope"
   ]
  },
  {
   "cell_type": "code",
   "execution_count": 8,
   "metadata": {},
   "outputs": [
    {
     "name": "stdout",
     "output_type": "stream",
     "text": [
      "4.0\n"
     ]
    }
   ],
   "source": [
    "# let's get more compex\n",
    "a = 2.0\n",
    "b = -3.0\n",
    "c = 10\n",
    "d = a*b+c\n",
    "print(d)"
   ]
  },
  {
   "cell_type": "code",
   "execution_count": 9,
   "metadata": {},
   "outputs": [
    {
     "name": "stdout",
     "output_type": "stream",
     "text": [
      "d1 4.0\n",
      "d2 3.9999699999999994\n",
      "slope -3.000000000064062\n"
     ]
    }
   ],
   "source": [
    "h = 0.00001\n",
    "\n",
    "#inputs\n",
    "a = 2.0\n",
    "b = -3.0\n",
    "c = 10\n",
    "\n",
    "d1 = a*b + c\n",
    "a += h\n",
    "d2 = a*b + c\n",
    "print('d1', d1)\n",
    "print('d2', d2)\n",
    "print('slope', (d2 - d1)/h)"
   ]
  },
  {
   "cell_type": "code",
   "execution_count": 10,
   "metadata": {},
   "outputs": [
    {
     "data": {
      "text/plain": [
       "Value(data=-8.0)"
      ]
     },
     "execution_count": 10,
     "metadata": {},
     "output_type": "execute_result"
    }
   ],
   "source": [
    "class Value:\n",
    "\n",
    "    def __init__(self, data, _children=(), _op='', label=''):\n",
    "        self.data = data\n",
    "        self.grad = 0.0\n",
    "        self._backward = lambda: None\n",
    "        self._prev = set(_children)\n",
    "        self._op = _op\n",
    "        self.label = label \n",
    "\n",
    "    def __repr__(self):\n",
    "        return f\"Value(data={self.data})\"\n",
    "    \n",
    "    def __add__(self, other):\n",
    "        out = Value(self.data + other.data, (self, other), '+')\n",
    "\n",
    "        def _backward():\n",
    "            self.grad = 1.0 * out.grad\n",
    "            other.grad = 1.0 * out.grad\n",
    "        out._backward = _backward\n",
    "        return out\n",
    "    \n",
    "    def __mul__(self, other):\n",
    "        out = Value(self.data * other.data, (self, other), '*')\n",
    "\n",
    "        def _backward():\n",
    "            self.grad = other.data * out.grad\n",
    "            other.grad = self.data * out.grad\n",
    "        out._backward = _backward\n",
    "        return out\n",
    "    \n",
    "    def tanh(self):\n",
    "        x = self.data\n",
    "        t = (math.exp(2*x) - 1) / (math.exp(2*x) + 1)\n",
    "        out = Value(t, (self, ), 'tanh')\n",
    "\n",
    "        def _backward():\n",
    "            self.grad = (1 - t**2) * out.grad\n",
    "        out._backward = _backward\n",
    "        return out\n",
    "\n",
    "a = Value(-2.0, label='a')\n",
    "b = Value(3.0, label='b')\n",
    "c = Value(10.0, label='c')\n",
    "e = a*b; e.label = 'e'\n",
    "d = e+c; d.label = 'd'\n",
    "f = Value(-2.0, label='f')\n",
    "L = d*f; L.label = 'L'\n",
    "L"
   ]
  },
  {
   "cell_type": "code",
   "execution_count": 11,
   "metadata": {},
   "outputs": [],
   "source": [
    "from graphviz import Digraph\n",
    "\n",
    "def trace(root):\n",
    "    # builds a set of all nodes and edges in a graph\n",
    "    nodes, edges = set(), set()\n",
    "    def build(v):\n",
    "        if v not in nodes:\n",
    "            nodes.add(v)\n",
    "            for child in v._prev:\n",
    "                edges.add((child, v))\n",
    "                build(child)\n",
    "    build(root)\n",
    "    return nodes, edges\n",
    "\n",
    "def draw_dot(root):\n",
    "    dot = Digraph(format='svg', graph_attr={'rankdir': 'LR'}) # LR = left to right\n",
    "\n",
    "    nodes, edges = trace(root)\n",
    "    for n in nodes:\n",
    "        uid = str(id(n))\n",
    "        # for any value in the graph, create a rectangular ('record') nod for it\n",
    "        dot.node(name=uid, label = \"{%s | data %.4f | grad %0.4f}\" % (n.label, n.data, n.grad), shape='record')\n",
    "        if n._op:\n",
    "            # if this value is a result of some operation, create an op node for it\n",
    "            dot.node(name = uid + n._op, label = n._op)\n",
    "            # and connect this node to it\n",
    "            dot.edge(uid + n._op, uid)\n",
    "    for n1, n2 in edges:\n",
    "        # conect n1 to the op node of n2\n",
    "        dot.edge(str(id(n1)), str(id(n2)) + n2._op)\n",
    "\n",
    "    return dot"
   ]
  },
  {
   "cell_type": "code",
   "execution_count": 25,
   "metadata": {},
   "outputs": [
    {
     "data": {
      "image/svg+xml": "<?xml version=\"1.0\" encoding=\"UTF-8\" standalone=\"no\"?>\n<!DOCTYPE svg PUBLIC \"-//W3C//DTD SVG 1.1//EN\"\n \"http://www.w3.org/Graphics/SVG/1.1/DTD/svg11.dtd\">\n<!-- Generated by graphviz version 5.0.0 (20220707.2338)\n -->\n<!-- Pages: 1 -->\n<svg width=\"1342pt\" height=\"128pt\"\n viewBox=\"0.00 0.00 1342.00 128.00\" xmlns=\"http://www.w3.org/2000/svg\" xmlns:xlink=\"http://www.w3.org/1999/xlink\">\n<g id=\"graph0\" class=\"graph\" transform=\"scale(1 1) rotate(0) translate(4 124)\">\n<polygon fill=\"white\" stroke=\"transparent\" points=\"-4,4 -4,-124 1338,-124 1338,4 -4,4\"/>\n<!-- 140568466391584 -->\n<g id=\"node1\" class=\"node\">\n<title>140568466391584</title>\n<polygon fill=\"none\" stroke=\"black\" points=\"1097,-54.5 1097,-90.5 1334,-90.5 1334,-54.5 1097,-54.5\"/>\n<text text-anchor=\"middle\" x=\"1110\" y=\"-68.8\" font-family=\"Times,serif\" font-size=\"14.00\">L</text>\n<polyline fill=\"none\" stroke=\"black\" points=\"1123,-54.5 1123,-90.5 \"/>\n<text text-anchor=\"middle\" x=\"1176.5\" y=\"-68.8\" font-family=\"Times,serif\" font-size=\"14.00\">data &#45;8.0000</text>\n<polyline fill=\"none\" stroke=\"black\" points=\"1230,-54.5 1230,-90.5 \"/>\n<text text-anchor=\"middle\" x=\"1282\" y=\"-68.8\" font-family=\"Times,serif\" font-size=\"14.00\">grad 1.0000</text>\n</g>\n<!-- 140568466391584* -->\n<g id=\"node2\" class=\"node\">\n<title>140568466391584*</title>\n<ellipse fill=\"none\" stroke=\"black\" cx=\"1034\" cy=\"-72.5\" rx=\"27\" ry=\"18\"/>\n<text text-anchor=\"middle\" x=\"1034\" y=\"-68.8\" font-family=\"Times,serif\" font-size=\"14.00\">*</text>\n</g>\n<!-- 140568466391584*&#45;&gt;140568466391584 -->\n<g id=\"edge1\" class=\"edge\">\n<title>140568466391584*&#45;&gt;140568466391584</title>\n<path fill=\"none\" stroke=\"black\" d=\"M1061.1,-72.5C1068.61,-72.5 1077.33,-72.5 1086.75,-72.5\"/>\n<polygon fill=\"black\" stroke=\"black\" points=\"1086.78,-76 1096.78,-72.5 1086.78,-69 1086.78,-76\"/>\n</g>\n<!-- 140568501385776 -->\n<g id=\"node3\" class=\"node\">\n<title>140568501385776</title>\n<polygon fill=\"none\" stroke=\"black\" points=\"367.5,-55.5 367.5,-91.5 607.5,-91.5 607.5,-55.5 367.5,-55.5\"/>\n<text text-anchor=\"middle\" x=\"380\" y=\"-69.8\" font-family=\"Times,serif\" font-size=\"14.00\">e</text>\n<polyline fill=\"none\" stroke=\"black\" points=\"392.5,-55.5 392.5,-91.5 \"/>\n<text text-anchor=\"middle\" x=\"446\" y=\"-69.8\" font-family=\"Times,serif\" font-size=\"14.00\">data &#45;6.0000</text>\n<polyline fill=\"none\" stroke=\"black\" points=\"499.5,-55.5 499.5,-91.5 \"/>\n<text text-anchor=\"middle\" x=\"553.5\" y=\"-69.8\" font-family=\"Times,serif\" font-size=\"14.00\">grad &#45;2.0000</text>\n</g>\n<!-- 140568501376848+ -->\n<g id=\"node8\" class=\"node\">\n<title>140568501376848+</title>\n<ellipse fill=\"none\" stroke=\"black\" cx=\"672\" cy=\"-45.5\" rx=\"27\" ry=\"18\"/>\n<text text-anchor=\"middle\" x=\"672\" y=\"-41.8\" font-family=\"Times,serif\" font-size=\"14.00\">+</text>\n</g>\n<!-- 140568501385776&#45;&gt;140568501376848+ -->\n<g id=\"edge7\" class=\"edge\">\n<title>140568501385776&#45;&gt;140568501376848+</title>\n<path fill=\"none\" stroke=\"black\" d=\"M605.89,-55.49C616.53,-53.86 626.65,-52.3 635.61,-50.93\"/>\n<polygon fill=\"black\" stroke=\"black\" points=\"636.2,-54.38 645.55,-49.4 635.14,-47.46 636.2,-54.38\"/>\n</g>\n<!-- 140568501385776* -->\n<g id=\"node4\" class=\"node\">\n<title>140568501385776*</title>\n<ellipse fill=\"none\" stroke=\"black\" cx=\"303\" cy=\"-73.5\" rx=\"27\" ry=\"18\"/>\n<text text-anchor=\"middle\" x=\"303\" y=\"-69.8\" font-family=\"Times,serif\" font-size=\"14.00\">*</text>\n</g>\n<!-- 140568501385776*&#45;&gt;140568501385776 -->\n<g id=\"edge2\" class=\"edge\">\n<title>140568501385776*&#45;&gt;140568501385776</title>\n<path fill=\"none\" stroke=\"black\" d=\"M330.15,-73.5C337.98,-73.5 347.16,-73.5 357.06,-73.5\"/>\n<polygon fill=\"black\" stroke=\"black\" points=\"357.19,-77 367.19,-73.5 357.19,-70 357.19,-77\"/>\n</g>\n<!-- 140568501380736 -->\n<g id=\"node5\" class=\"node\">\n<title>140568501380736</title>\n<polygon fill=\"none\" stroke=\"black\" points=\"4,-83.5 4,-119.5 236,-119.5 236,-83.5 4,-83.5\"/>\n<text text-anchor=\"middle\" x=\"17\" y=\"-97.8\" font-family=\"Times,serif\" font-size=\"14.00\">b</text>\n<polyline fill=\"none\" stroke=\"black\" points=\"30,-83.5 30,-119.5 \"/>\n<text text-anchor=\"middle\" x=\"81\" y=\"-97.8\" font-family=\"Times,serif\" font-size=\"14.00\">data 3.0000</text>\n<polyline fill=\"none\" stroke=\"black\" points=\"132,-83.5 132,-119.5 \"/>\n<text text-anchor=\"middle\" x=\"184\" y=\"-97.8\" font-family=\"Times,serif\" font-size=\"14.00\">grad 4.0000</text>\n</g>\n<!-- 140568501380736&#45;&gt;140568501385776* -->\n<g id=\"edge9\" class=\"edge\">\n<title>140568501380736&#45;&gt;140568501385776*</title>\n<path fill=\"none\" stroke=\"black\" d=\"M236.14,-83.69C246.97,-82.01 257.28,-80.42 266.4,-79.01\"/>\n<polygon fill=\"black\" stroke=\"black\" points=\"267.17,-82.43 276.52,-77.44 266.1,-75.51 267.17,-82.43\"/>\n</g>\n<!-- 140568501379728 -->\n<g id=\"node6\" class=\"node\">\n<title>140568501379728</title>\n<polygon fill=\"none\" stroke=\"black\" points=\"736.5,-82.5 736.5,-118.5 969.5,-118.5 969.5,-82.5 736.5,-82.5\"/>\n<text text-anchor=\"middle\" x=\"747.5\" y=\"-96.8\" font-family=\"Times,serif\" font-size=\"14.00\">f</text>\n<polyline fill=\"none\" stroke=\"black\" points=\"758.5,-82.5 758.5,-118.5 \"/>\n<text text-anchor=\"middle\" x=\"812\" y=\"-96.8\" font-family=\"Times,serif\" font-size=\"14.00\">data &#45;2.0000</text>\n<polyline fill=\"none\" stroke=\"black\" points=\"865.5,-82.5 865.5,-118.5 \"/>\n<text text-anchor=\"middle\" x=\"917.5\" y=\"-96.8\" font-family=\"Times,serif\" font-size=\"14.00\">grad 4.0000</text>\n</g>\n<!-- 140568501379728&#45;&gt;140568466391584* -->\n<g id=\"edge6\" class=\"edge\">\n<title>140568501379728&#45;&gt;140568466391584*</title>\n<path fill=\"none\" stroke=\"black\" d=\"M969.13,-82.49C979.27,-80.91 988.92,-79.4 997.51,-78.05\"/>\n<polygon fill=\"black\" stroke=\"black\" points=\"998.09,-81.5 1007.43,-76.5 997.01,-74.59 998.09,-81.5\"/>\n</g>\n<!-- 140568501376848 -->\n<g id=\"node7\" class=\"node\">\n<title>140568501376848</title>\n<polygon fill=\"none\" stroke=\"black\" points=\"735,-27.5 735,-63.5 971,-63.5 971,-27.5 735,-27.5\"/>\n<text text-anchor=\"middle\" x=\"748\" y=\"-41.8\" font-family=\"Times,serif\" font-size=\"14.00\">d</text>\n<polyline fill=\"none\" stroke=\"black\" points=\"761,-27.5 761,-63.5 \"/>\n<text text-anchor=\"middle\" x=\"812\" y=\"-41.8\" font-family=\"Times,serif\" font-size=\"14.00\">data 4.0000</text>\n<polyline fill=\"none\" stroke=\"black\" points=\"863,-27.5 863,-63.5 \"/>\n<text text-anchor=\"middle\" x=\"917\" y=\"-41.8\" font-family=\"Times,serif\" font-size=\"14.00\">grad &#45;2.0000</text>\n</g>\n<!-- 140568501376848&#45;&gt;140568466391584* -->\n<g id=\"edge5\" class=\"edge\">\n<title>140568501376848&#45;&gt;140568466391584*</title>\n<path fill=\"none\" stroke=\"black\" d=\"M971.15,-63.17C980.53,-64.58 989.46,-65.93 997.46,-67.14\"/>\n<polygon fill=\"black\" stroke=\"black\" points=\"997.01,-70.61 1007.42,-68.64 998.06,-63.69 997.01,-70.61\"/>\n</g>\n<!-- 140568501376848+&#45;&gt;140568501376848 -->\n<g id=\"edge3\" class=\"edge\">\n<title>140568501376848+&#45;&gt;140568501376848</title>\n<path fill=\"none\" stroke=\"black\" d=\"M699.03,-45.5C706.58,-45.5 715.38,-45.5 724.87,-45.5\"/>\n<polygon fill=\"black\" stroke=\"black\" points=\"724.99,-49 734.99,-45.5 724.99,-42 724.99,-49\"/>\n</g>\n<!-- 140568501379968 -->\n<g id=\"node9\" class=\"node\">\n<title>140568501379968</title>\n<polygon fill=\"none\" stroke=\"black\" points=\"366,-0.5 366,-36.5 609,-36.5 609,-0.5 366,-0.5\"/>\n<text text-anchor=\"middle\" x=\"378\" y=\"-14.8\" font-family=\"Times,serif\" font-size=\"14.00\">c</text>\n<polyline fill=\"none\" stroke=\"black\" points=\"390,-0.5 390,-36.5 \"/>\n<text text-anchor=\"middle\" x=\"445.5\" y=\"-14.8\" font-family=\"Times,serif\" font-size=\"14.00\">data 10.0000</text>\n<polyline fill=\"none\" stroke=\"black\" points=\"501,-0.5 501,-36.5 \"/>\n<text text-anchor=\"middle\" x=\"555\" y=\"-14.8\" font-family=\"Times,serif\" font-size=\"14.00\">grad &#45;2.0000</text>\n</g>\n<!-- 140568501379968&#45;&gt;140568501376848+ -->\n<g id=\"edge8\" class=\"edge\">\n<title>140568501379968&#45;&gt;140568501376848+</title>\n<path fill=\"none\" stroke=\"black\" d=\"M609.21,-36.36C618.62,-37.75 627.55,-39.07 635.56,-40.26\"/>\n<polygon fill=\"black\" stroke=\"black\" points=\"635.1,-43.73 645.5,-41.73 636.12,-36.8 635.1,-43.73\"/>\n</g>\n<!-- 140568501380544 -->\n<g id=\"node10\" class=\"node\">\n<title>140568501380544</title>\n<polygon fill=\"none\" stroke=\"black\" points=\"0,-28.5 0,-64.5 240,-64.5 240,-28.5 0,-28.5\"/>\n<text text-anchor=\"middle\" x=\"12.5\" y=\"-42.8\" font-family=\"Times,serif\" font-size=\"14.00\">a</text>\n<polyline fill=\"none\" stroke=\"black\" points=\"25,-28.5 25,-64.5 \"/>\n<text text-anchor=\"middle\" x=\"78.5\" y=\"-42.8\" font-family=\"Times,serif\" font-size=\"14.00\">data &#45;2.0000</text>\n<polyline fill=\"none\" stroke=\"black\" points=\"132,-28.5 132,-64.5 \"/>\n<text text-anchor=\"middle\" x=\"186\" y=\"-42.8\" font-family=\"Times,serif\" font-size=\"14.00\">grad &#45;6.0000</text>\n</g>\n<!-- 140568501380544&#45;&gt;140568501385776* -->\n<g id=\"edge4\" class=\"edge\">\n<title>140568501380544&#45;&gt;140568501385776*</title>\n<path fill=\"none\" stroke=\"black\" d=\"M240.22,-64.28C249.6,-65.68 258.53,-67.02 266.54,-68.21\"/>\n<polygon fill=\"black\" stroke=\"black\" points=\"266.08,-71.68 276.48,-69.69 267.11,-64.76 266.08,-71.68\"/>\n</g>\n</g>\n</svg>\n",
      "text/plain": [
       "<graphviz.graphs.Digraph at 0x7fd90dc45840>"
      ]
     },
     "execution_count": 25,
     "metadata": {},
     "output_type": "execute_result"
    }
   ],
   "source": [
    "draw_dot(L)"
   ]
  },
  {
   "cell_type": "code",
   "execution_count": null,
   "metadata": {},
   "outputs": [],
   "source": [
    "# L = d * f\n",
    "# dL / dd = ?? -> f\n",
    "\n",
    "# (f(x + h) - f(x)) / h\n",
    "# ((d + h) * f - d * f ) / h\n",
    "# d*f + h*f - d*f / h\n",
    "# h*f/h -> f"
   ]
  },
  {
   "attachments": {},
   "cell_type": "markdown",
   "metadata": {},
   "source": [
    "dd / dc\n",
    "d = c + e\n",
    "(f(x + h) - f(x)) / h\n",
    "((c + h + e) - c - e) / h\n",
    "h/h -> 1\n",
    "\n",
    "dd / dc -> 1.0\n",
    "dd / de -> 1.0"
   ]
  },
  {
   "attachments": {},
   "cell_type": "markdown",
   "metadata": {},
   "source": [
    "Chain rule\n",
    "dz/dx = dz/dy * dy/dx\n",
    "dL/dc = dL/dd * dd/dc\n",
    "\n",
    "WANT\n",
    "dL/dc\n",
    "\n",
    "KNOW\n",
    "dL/dd\n",
    "dd/dc\n",
    "\n"
   ]
  },
  {
   "attachments": {},
   "cell_type": "markdown",
   "metadata": {},
   "source": [
    "dL / de -> -2.0\n",
    "\n",
    "WANT\n",
    "dL / da\n",
    "\n",
    "dL / da = dL / de * de / da\n",
    "\n",
    "e = a * b\n",
    "de/da ??\n",
    "de / da = 3.0\n",
    "de / db = -2.0"
   ]
  },
  {
   "cell_type": "code",
   "execution_count": 24,
   "metadata": {},
   "outputs": [],
   "source": [
    "a.grad = 3.0 * -2.0\n",
    "b.grad = -2.0 * -2.0"
   ]
  },
  {
   "cell_type": "code",
   "execution_count": 27,
   "metadata": {},
   "outputs": [
    {
     "name": "stdout",
     "output_type": "stream",
     "text": [
      "3.9999999999995595\n"
     ]
    }
   ],
   "source": [
    "def lol():\n",
    "    h = 0.001\n",
    "\n",
    "    a = Value(-2.0, label='a')\n",
    "    b = Value(3.0, label='b')\n",
    "    c = Value(10.0, label='c')\n",
    "    e = a*b; e.label = 'e'\n",
    "    d = e+c; d.label = 'd'\n",
    "    f = Value(-2.0, label='f')\n",
    "    L = d*f; L.label = 'L'\n",
    "    L1 = L.data\n",
    "\n",
    "    a = Value(-2.0, label='a')\n",
    "    b = Value(3.0 + h, label='b')\n",
    "    c = Value(10.0, label='c')\n",
    "    e = a*b; e.label = 'e'\n",
    "    d = e+c; d.label = 'd'\n",
    "    f = Value(-2.0 , label='f')\n",
    "    L = d*f; L.label = 'L'\n",
    "    L2 = L.data\n",
    "\n",
    "    print((L2 - L1)/h)\n",
    "lol()"
   ]
  },
  {
   "cell_type": "code",
   "execution_count": null,
   "metadata": {},
   "outputs": [],
   "source": []
  },
  {
   "cell_type": "code",
   "execution_count": null,
   "metadata": {},
   "outputs": [],
   "source": []
  }
 ],
 "metadata": {
  "kernelspec": {
   "display_name": "base",
   "language": "python",
   "name": "python3"
  },
  "language_info": {
   "codemirror_mode": {
    "name": "ipython",
    "version": 3
   },
   "file_extension": ".py",
   "mimetype": "text/x-python",
   "name": "python",
   "nbconvert_exporter": "python",
   "pygments_lexer": "ipython3",
   "version": "3.10.8"
  },
  "vscode": {
   "interpreter": {
    "hash": "aa99352128c151ce7b65c81941623bc904f435338a382feb7d8693aacef30c8b"
   }
  }
 },
 "nbformat": 4,
 "nbformat_minor": 4
}
