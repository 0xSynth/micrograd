{
 "cells": [
  {
   "cell_type": "code",
   "execution_count": 1,
   "metadata": {},
   "outputs": [],
   "source": [
    "%load_ext autoreload\n",
    "%autoreload 2"
   ]
  },
  {
   "cell_type": "code",
   "execution_count": 2,
   "metadata": {},
   "outputs": [],
   "source": [
    "import math\n",
    "import numpy as np\n",
    "import matplotlib.pyplot as plt\n",
    "%matplotlib inline"
   ]
  },
  {
   "cell_type": "code",
   "execution_count": 3,
   "metadata": {},
   "outputs": [],
   "source": [
    "def f(x):\n",
    "    return 3*x**2 - 5*x + 5"
   ]
  },
  {
   "cell_type": "code",
   "execution_count": 4,
   "metadata": {},
   "outputs": [
    {
     "data": {
      "text/plain": [
       "117"
      ]
     },
     "execution_count": 4,
     "metadata": {},
     "output_type": "execute_result"
    }
   ],
   "source": [
    "f(7)"
   ]
  },
  {
   "cell_type": "code",
   "execution_count": 5,
   "metadata": {},
   "outputs": [
    {
     "data": {
      "text/plain": [
       "[<matplotlib.lines.Line2D at 0x7f8f6ef576a0>]"
      ]
     },
     "execution_count": 5,
     "metadata": {},
     "output_type": "execute_result"
    },
    {
     "data": {
      "image/png": "[encoded data removed]",
      "text/plain": [
       "<Figure size 432x288 with 1 Axes>"
      ]
     },
     "metadata": {
      "needs_background": "light"
     },
     "output_type": "display_data"
    }
   ],
   "source": [
    "xs = np.arange(-5, 5, 0.25)\n",
    "ys = f(xs)\n",
    "plt.plot(xs, ys)"
   ]
  },
  {
   "cell_type": "code",
   "execution_count": 6,
   "metadata": {},
   "outputs": [
    {
     "data": {
      "text/plain": [
       "13.000089893466793"
      ]
     },
     "execution_count": 6,
     "metadata": {},
     "output_type": "execute_result"
    }
   ],
   "source": [
    "h = 0.00000000001\n",
    "x = 3.0\n",
    "(f(x + h) - f(x)) / h #get the numerical approximation of the slope"
   ]
  },
  {
   "cell_type": "code",
   "execution_count": 7,
   "metadata": {},
   "outputs": [
    {
     "name": "stdout",
     "output_type": "stream",
     "text": [
      "4.0\n"
     ]
    }
   ],
   "source": [
    "# let's get more compex\n",
    "a = 2.0\n",
    "b = -3.0\n",
    "c = 10\n",
    "d = a*b+c\n",
    "print(d)"
   ]
  },
  {
   "cell_type": "code",
   "execution_count": 8,
   "metadata": {},
   "outputs": [
    {
     "name": "stdout",
     "output_type": "stream",
     "text": [
      "d1 4.0\n",
      "d2 3.9999699999999994\n",
      "slope -3.000000000064062\n"
     ]
    }
   ],
   "source": [
    "h = 0.00001\n",
    "\n",
    "#inputs\n",
    "a = 2.0\n",
    "b = -3.0\n",
    "c = 10\n",
    "\n",
    "d1 = a*b + c\n",
    "a += h\n",
    "d2 = a*b + c\n",
    "print('d1', d1)\n",
    "print('d2', d2)\n",
    "print('slope', (d2 - d1)/h)"
   ]
  },
  {
   "cell_type": "code",
   "execution_count": 9,
   "metadata": {},
   "outputs": [
    {
     "data": {
      "text/plain": [
       "Value(data=-8.0)"
      ]
     },
     "execution_count": 9,
     "metadata": {},
     "output_type": "execute_result"
    }
   ],
   "source": [
    "class Value:\n",
    "\n",
    "    def __init__(self, data, _children=(), _op='', label=''):\n",
    "        self.data = data\n",
    "        self.grad = 0.0\n",
    "        self._backward = lambda: None\n",
    "        self._prev = set(_children)\n",
    "        self._op = _op\n",
    "        self.label = label \n",
    "\n",
    "    def __repr__(self):\n",
    "        return f\"Value(data={self.data})\"\n",
    "    \n",
    "    def __add__(self, other):\n",
    "        out = Value(self.data + other.data, (self, other), '+')\n",
    "\n",
    "        def _backward():\n",
    "            self.grad = 1.0 * out.grad\n",
    "            other.grad = 1.0 * out.grad\n",
    "        out._backward = _backward\n",
    "        return out\n",
    "    \n",
    "    def __mul__(self, other):\n",
    "        out = Value(self.data * other.data, (self, other), '*')\n",
    "\n",
    "        def _backward():\n",
    "            self.grad = other.data * out.grad\n",
    "            other.grad = self.data * out.grad\n",
    "        out._backward = _backward\n",
    "        return out\n",
    "    \n",
    "    def tanh(self):\n",
    "        x = self.data\n",
    "        t = (math.exp(2*x) - 1) / (math.exp(2*x) + 1)\n",
    "        out = Value(t, (self, ), 'tanh')\n",
    "\n",
    "        def _backward():\n",
    "            self.grad = (1 - t**2) * out.grad\n",
    "        out._backward = _backward\n",
    "        return out\n",
    "\n",
    "a = Value(-2.0, label='a')\n",
    "b = Value(3.0, label='b')\n",
    "c = Value(10.0, label='c')\n",
    "e = a*b; e.label = 'e'\n",
    "d = e+c; d.label = 'd'\n",
    "f = Value(-2.0, label='f')\n",
    "L = d*f; L.label = 'L'\n",
    "L"
   ]
  },
  {
   "cell_type": "code",
   "execution_count": 10,
   "metadata": {},
   "outputs": [],
   "source": [
    "from graphviz import Digraph\n",
    "\n",
    "def trace(root):\n",
    "    # builds a set of all nodes and edges in a graph\n",
    "    nodes, edges = set(), set()\n",
    "    def build(v):\n",
    "        if v not in nodes:\n",
    "            nodes.add(v)\n",
    "            for child in v._prev:\n",
    "                edges.add((child, v))\n",
    "                build(child)\n",
    "    build(root)\n",
    "    return nodes, edges\n",
    "\n",
    "def draw_dot(root):\n",
    "    dot = Digraph(format='svg', graph_attr={'rankdir': 'LR'}) # LR = left to right\n",
    "\n",
    "    nodes, edges = trace(root)\n",
    "    for n in nodes:\n",
    "        uid = str(id(n))\n",
    "        # for any value in the graph, create a rectangular ('record') nod for it\n",
    "        dot.node(name=uid, label = \"{%s | data %.4f | grad %0.4f}\" % (n.label, n.data, n.grad), shape='record')\n",
    "        if n._op:\n",
    "            # if this value is a result of some operation, create an op node for it\n",
    "            dot.node(name = uid + n._op, label = n._op)\n",
    "            # and connect this node to it\n",
    "            dot.edge(uid + n._op, uid)\n",
    "    for n1, n2 in edges:\n",
    "        # conect n1 to the op node of n2\n",
    "        dot.edge(str(id(n1)), str(id(n2)) + n2._op)\n",
    "\n",
    "    return dot"
   ]
  },
  {
   "cell_type": "code",
   "execution_count": 11,
   "metadata": {},
   "outputs": [
    {
     "data": {
      "image/svg+xml": "<?xml version=\"1.0\" encoding=\"UTF-8\" standalone=\"no\"?>\n<!DOCTYPE svg PUBLIC \"-//W3C//DTD SVG 1.1//EN\"\n \"http://www.w3.org/Graphics/SVG/1.1/DTD/svg11.dtd\">\n<!-- Generated by graphviz version 5.0.0 (20220707.2338)\n -->\n<!-- Pages: 1 -->\n<svg width=\"1331pt\" height=\"156pt\"\n viewBox=\"0.00 0.00 1331.00 156.00\" xmlns=\"http://www.w3.org/2000/svg\" xmlns:xlink=\"http://www.w3.org/1999/xlink\">\n<g id=\"graph0\" class=\"graph\" transform=\"scale(1 1) rotate(0) translate(4 152)\">\n<polygon fill=\"white\" stroke=\"transparent\" points=\"-4,4 -4,-152 1327,-152 1327,4 -4,4\"/>\n<!-- 140253983687728 -->\n<g id=\"node1\" class=\"node\">\n<title>140253983687728</title>\n<polygon fill=\"none\" stroke=\"black\" points=\"0,-111.5 0,-147.5 236,-147.5 236,-111.5 0,-111.5\"/>\n<text text-anchor=\"middle\" x=\"12.5\" y=\"-125.8\" font-family=\"Times,serif\" font-size=\"14.00\">a</text>\n<polyline fill=\"none\" stroke=\"black\" points=\"25,-111.5 25,-147.5 \"/>\n<text text-anchor=\"middle\" x=\"78.5\" y=\"-125.8\" font-family=\"Times,serif\" font-size=\"14.00\">data &#45;2.0000</text>\n<polyline fill=\"none\" stroke=\"black\" points=\"132,-111.5 132,-147.5 \"/>\n<text text-anchor=\"middle\" x=\"184\" y=\"-125.8\" font-family=\"Times,serif\" font-size=\"14.00\">grad 0.0000</text>\n</g>\n<!-- 140253983686768* -->\n<g id=\"node3\" class=\"node\">\n<title>140253983686768*</title>\n<ellipse fill=\"none\" stroke=\"black\" cx=\"299\" cy=\"-101.5\" rx=\"27\" ry=\"18\"/>\n<text text-anchor=\"middle\" x=\"299\" y=\"-97.8\" font-family=\"Times,serif\" font-size=\"14.00\">*</text>\n</g>\n<!-- 140253983687728&#45;&gt;140253983686768* -->\n<g id=\"edge9\" class=\"edge\">\n<title>140253983687728&#45;&gt;140253983686768*</title>\n<path fill=\"none\" stroke=\"black\" d=\"M234.13,-111.49C244.27,-109.91 253.92,-108.4 262.51,-107.05\"/>\n<polygon fill=\"black\" stroke=\"black\" points=\"263.09,-110.5 272.43,-105.5 262.01,-103.59 263.09,-110.5\"/>\n</g>\n<!-- 140253983686768 -->\n<g id=\"node2\" class=\"node\">\n<title>140253983686768</title>\n<polygon fill=\"none\" stroke=\"black\" points=\"363.5,-83.5 363.5,-119.5 599.5,-119.5 599.5,-83.5 363.5,-83.5\"/>\n<text text-anchor=\"middle\" x=\"376\" y=\"-97.8\" font-family=\"Times,serif\" font-size=\"14.00\">e</text>\n<polyline fill=\"none\" stroke=\"black\" points=\"388.5,-83.5 388.5,-119.5 \"/>\n<text text-anchor=\"middle\" x=\"442\" y=\"-97.8\" font-family=\"Times,serif\" font-size=\"14.00\">data &#45;6.0000</text>\n<polyline fill=\"none\" stroke=\"black\" points=\"495.5,-83.5 495.5,-119.5 \"/>\n<text text-anchor=\"middle\" x=\"547.5\" y=\"-97.8\" font-family=\"Times,serif\" font-size=\"14.00\">grad 0.0000</text>\n</g>\n<!-- 140253983688112+ -->\n<g id=\"node8\" class=\"node\">\n<title>140253983688112+</title>\n<ellipse fill=\"none\" stroke=\"black\" cx=\"664\" cy=\"-73.5\" rx=\"27\" ry=\"18\"/>\n<text text-anchor=\"middle\" x=\"664\" y=\"-69.8\" font-family=\"Times,serif\" font-size=\"14.00\">+</text>\n</g>\n<!-- 140253983686768&#45;&gt;140253983688112+ -->\n<g id=\"edge8\" class=\"edge\">\n<title>140253983686768&#45;&gt;140253983688112+</title>\n<path fill=\"none\" stroke=\"black\" d=\"M598.6,-83.49C608.91,-81.89 618.74,-80.37 627.46,-79.01\"/>\n<polygon fill=\"black\" stroke=\"black\" points=\"628.18,-82.44 637.52,-77.45 627.1,-75.53 628.18,-82.44\"/>\n</g>\n<!-- 140253983686768*&#45;&gt;140253983686768 -->\n<g id=\"edge1\" class=\"edge\">\n<title>140253983686768*&#45;&gt;140253983686768</title>\n<path fill=\"none\" stroke=\"black\" d=\"M326.25,-101.5C334.09,-101.5 343.27,-101.5 353.17,-101.5\"/>\n<polygon fill=\"black\" stroke=\"black\" points=\"353.28,-105 363.28,-101.5 353.28,-98 353.28,-105\"/>\n</g>\n<!-- 140253983688304 -->\n<g id=\"node4\" class=\"node\">\n<title>140253983688304</title>\n<polygon fill=\"none\" stroke=\"black\" points=\"1086,-27.5 1086,-63.5 1323,-63.5 1323,-27.5 1086,-27.5\"/>\n<text text-anchor=\"middle\" x=\"1099\" y=\"-41.8\" font-family=\"Times,serif\" font-size=\"14.00\">L</text>\n<polyline fill=\"none\" stroke=\"black\" points=\"1112,-27.5 1112,-63.5 \"/>\n<text text-anchor=\"middle\" x=\"1165.5\" y=\"-41.8\" font-family=\"Times,serif\" font-size=\"14.00\">data &#45;8.0000</text>\n<polyline fill=\"none\" stroke=\"black\" points=\"1219,-27.5 1219,-63.5 \"/>\n<text text-anchor=\"middle\" x=\"1271\" y=\"-41.8\" font-family=\"Times,serif\" font-size=\"14.00\">grad 0.0000</text>\n</g>\n<!-- 140253983688304* -->\n<g id=\"node5\" class=\"node\">\n<title>140253983688304*</title>\n<ellipse fill=\"none\" stroke=\"black\" cx=\"1023\" cy=\"-45.5\" rx=\"27\" ry=\"18\"/>\n<text text-anchor=\"middle\" x=\"1023\" y=\"-41.8\" font-family=\"Times,serif\" font-size=\"14.00\">*</text>\n</g>\n<!-- 140253983688304*&#45;&gt;140253983688304 -->\n<g id=\"edge2\" class=\"edge\">\n<title>140253983688304*&#45;&gt;140253983688304</title>\n<path fill=\"none\" stroke=\"black\" d=\"M1050.1,-45.5C1057.61,-45.5 1066.33,-45.5 1075.75,-45.5\"/>\n<polygon fill=\"black\" stroke=\"black\" points=\"1075.78,-49 1085.78,-45.5 1075.78,-42 1075.78,-49\"/>\n</g>\n<!-- 140253983687584 -->\n<g id=\"node6\" class=\"node\">\n<title>140253983687584</title>\n<polygon fill=\"none\" stroke=\"black\" points=\"362,-28.5 362,-64.5 601,-64.5 601,-28.5 362,-28.5\"/>\n<text text-anchor=\"middle\" x=\"374\" y=\"-42.8\" font-family=\"Times,serif\" font-size=\"14.00\">c</text>\n<polyline fill=\"none\" stroke=\"black\" points=\"386,-28.5 386,-64.5 \"/>\n<text text-anchor=\"middle\" x=\"441.5\" y=\"-42.8\" font-family=\"Times,serif\" font-size=\"14.00\">data 10.0000</text>\n<polyline fill=\"none\" stroke=\"black\" points=\"497,-28.5 497,-64.5 \"/>\n<text text-anchor=\"middle\" x=\"549\" y=\"-42.8\" font-family=\"Times,serif\" font-size=\"14.00\">grad 0.0000</text>\n</g>\n<!-- 140253983687584&#45;&gt;140253983688112+ -->\n<g id=\"edge4\" class=\"edge\">\n<title>140253983687584&#45;&gt;140253983688112+</title>\n<path fill=\"none\" stroke=\"black\" d=\"M601.13,-64.25C610.53,-65.65 619.47,-66.99 627.48,-68.19\"/>\n<polygon fill=\"black\" stroke=\"black\" points=\"627.03,-71.66 637.44,-69.68 628.07,-64.74 627.03,-71.66\"/>\n</g>\n<!-- 140253983688112 -->\n<g id=\"node7\" class=\"node\">\n<title>140253983688112</title>\n<polygon fill=\"none\" stroke=\"black\" points=\"727.5,-55.5 727.5,-91.5 959.5,-91.5 959.5,-55.5 727.5,-55.5\"/>\n<text text-anchor=\"middle\" x=\"740.5\" y=\"-69.8\" font-family=\"Times,serif\" font-size=\"14.00\">d</text>\n<polyline fill=\"none\" stroke=\"black\" points=\"753.5,-55.5 753.5,-91.5 \"/>\n<text text-anchor=\"middle\" x=\"804.5\" y=\"-69.8\" font-family=\"Times,serif\" font-size=\"14.00\">data 4.0000</text>\n<polyline fill=\"none\" stroke=\"black\" points=\"855.5,-55.5 855.5,-91.5 \"/>\n<text text-anchor=\"middle\" x=\"907.5\" y=\"-69.8\" font-family=\"Times,serif\" font-size=\"14.00\">grad 0.0000</text>\n</g>\n<!-- 140253983688112&#45;&gt;140253983688304* -->\n<g id=\"edge6\" class=\"edge\">\n<title>140253983688112&#45;&gt;140253983688304*</title>\n<path fill=\"none\" stroke=\"black\" d=\"M958.67,-55.49C968.61,-53.92 978.08,-52.43 986.53,-51.1\"/>\n<polygon fill=\"black\" stroke=\"black\" points=\"987.31,-54.52 996.64,-49.5 986.22,-47.6 987.31,-54.52\"/>\n</g>\n<!-- 140253983688112+&#45;&gt;140253983688112 -->\n<g id=\"edge3\" class=\"edge\">\n<title>140253983688112+&#45;&gt;140253983688112</title>\n<path fill=\"none\" stroke=\"black\" d=\"M691.19,-73.5C698.78,-73.5 707.61,-73.5 717.11,-73.5\"/>\n<polygon fill=\"black\" stroke=\"black\" points=\"717.24,-77 727.24,-73.5 717.24,-70 717.24,-77\"/>\n</g>\n<!-- 140253983687632 -->\n<g id=\"node9\" class=\"node\">\n<title>140253983687632</title>\n<polygon fill=\"none\" stroke=\"black\" points=\"2,-56.5 2,-92.5 234,-92.5 234,-56.5 2,-56.5\"/>\n<text text-anchor=\"middle\" x=\"15\" y=\"-70.8\" font-family=\"Times,serif\" font-size=\"14.00\">b</text>\n<polyline fill=\"none\" stroke=\"black\" points=\"28,-56.5 28,-92.5 \"/>\n<text text-anchor=\"middle\" x=\"79\" y=\"-70.8\" font-family=\"Times,serif\" font-size=\"14.00\">data 3.0000</text>\n<polyline fill=\"none\" stroke=\"black\" points=\"130,-56.5 130,-92.5 \"/>\n<text text-anchor=\"middle\" x=\"182\" y=\"-70.8\" font-family=\"Times,serif\" font-size=\"14.00\">grad 0.0000</text>\n</g>\n<!-- 140253983687632&#45;&gt;140253983686768* -->\n<g id=\"edge5\" class=\"edge\">\n<title>140253983687632&#45;&gt;140253983686768*</title>\n<path fill=\"none\" stroke=\"black\" d=\"M234.13,-91.87C244.27,-93.4 253.92,-94.85 262.51,-96.15\"/>\n<polygon fill=\"black\" stroke=\"black\" points=\"262.02,-99.61 272.43,-97.64 263.06,-92.69 262.02,-99.61\"/>\n</g>\n<!-- 140253983688160 -->\n<g id=\"node10\" class=\"node\">\n<title>140253983688160</title>\n<polygon fill=\"none\" stroke=\"black\" points=\"727,-0.5 727,-36.5 960,-36.5 960,-0.5 727,-0.5\"/>\n<text text-anchor=\"middle\" x=\"738\" y=\"-14.8\" font-family=\"Times,serif\" font-size=\"14.00\">f</text>\n<polyline fill=\"none\" stroke=\"black\" points=\"749,-0.5 749,-36.5 \"/>\n<text text-anchor=\"middle\" x=\"802.5\" y=\"-14.8\" font-family=\"Times,serif\" font-size=\"14.00\">data &#45;2.0000</text>\n<polyline fill=\"none\" stroke=\"black\" points=\"856,-0.5 856,-36.5 \"/>\n<text text-anchor=\"middle\" x=\"908\" y=\"-14.8\" font-family=\"Times,serif\" font-size=\"14.00\">grad 0.0000</text>\n</g>\n<!-- 140253983688160&#45;&gt;140253983688304* -->\n<g id=\"edge7\" class=\"edge\">\n<title>140253983688160&#45;&gt;140253983688304*</title>\n<path fill=\"none\" stroke=\"black\" d=\"M960.42,-36.13C969.75,-37.55 978.64,-38.9 986.61,-40.12\"/>\n<polygon fill=\"black\" stroke=\"black\" points=\"986.11,-43.58 996.52,-41.62 987.16,-36.66 986.11,-43.58\"/>\n</g>\n</g>\n</svg>\n",
      "text/plain": [
       "<graphviz.graphs.Digraph at 0x7f8f6ce04e50>"
      ]
     },
     "execution_count": 11,
     "metadata": {},
     "output_type": "execute_result"
    }
   ],
   "source": [
    "draw_dot(L)"
   ]
  },
  {
   "cell_type": "code",
   "execution_count": 12,
   "metadata": {},
   "outputs": [],
   "source": [
    "# L = d * f\n",
    "# dL / dd = ?? -> f\n",
    "\n",
    "# (f(x + h) - f(x)) / h\n",
    "# ((d + h) * f - d * f ) / h\n",
    "# d*f + h*f - d*f / h\n",
    "# h*f/h -> f"
   ]
  },
  {
   "attachments": {},
   "cell_type": "markdown",
   "metadata": {},
   "source": [
    "dd / dc\n",
    "d = c + e\n",
    "(f(x + h) - f(x)) / h\n",
    "((c + h + e) - c - e) / h\n",
    "h/h -> 1\n",
    "\n",
    "dd / dc -> 1.0\n",
    "dd / de -> 1.0"
   ]
  },
  {
   "attachments": {},
   "cell_type": "markdown",
   "metadata": {},
   "source": [
    "Chain rule\n",
    "dz/dx = dz/dy * dy/dx\n",
    "dL/dc = dL/dd * dd/dc\n",
    "\n",
    "WANT\n",
    "dL/dc\n",
    "\n",
    "KNOW\n",
    "dL/dd\n",
    "dd/dc\n",
    "\n"
   ]
  },
  {
   "attachments": {},
   "cell_type": "markdown",
   "metadata": {},
   "source": [
    "dL / de -> -2.0\n",
    "\n",
    "WANT\n",
    "dL / da\n",
    "\n",
    "dL / da = dL / de * de / da\n",
    "\n",
    "e = a * b\n",
    "de/da ??\n",
    "de / da = 3.0\n",
    "de / db = -2.0"
   ]
  },
  {
   "cell_type": "code",
   "execution_count": 13,
   "metadata": {},
   "outputs": [],
   "source": [
    "a.grad = 3.0 * -2.0\n",
    "b.grad = -2.0 * -2.0"
   ]
  },
  {
   "cell_type": "code",
   "execution_count": 14,
   "metadata": {},
   "outputs": [],
   "source": [
    "a.data += 0.01 * a.grad\n",
    "b.data += 0.01 * b.grad\n",
    "c.data += 0.01 * c.grad\n",
    "f.data += 0.01 * f.grad\n",
    "\n",
    "e = a*b\n",
    "d = e+c\n",
    "L = d*f"
   ]
  },
  {
   "cell_type": "code",
   "execution_count": 15,
   "metadata": {},
   "outputs": [
    {
     "name": "stdout",
     "output_type": "stream",
     "text": [
      "3.9999999999995595\n"
     ]
    }
   ],
   "source": [
    "def lol():\n",
    "    h = 0.001\n",
    "\n",
    "    a = Value(-2.0, label='a')\n",
    "    b = Value(3.0, label='b')\n",
    "    c = Value(10.0, label='c')\n",
    "    e = a*b; e.label = 'e'\n",
    "    d = e+c; d.label = 'd'\n",
    "    f = Value(-2.0, label='f')\n",
    "    L = d*f; L.label = 'L'\n",
    "    L1 = L.data\n",
    "\n",
    "    a = Value(-2.0, label='a')\n",
    "    b = Value(3.0 + h, label='b')\n",
    "    c = Value(10.0, label='c')\n",
    "    e = a*b; e.label = 'e'\n",
    "    d = e+c; d.label = 'd'\n",
    "    f = Value(-2.0 , label='f')\n",
    "    L = d*f; L.label = 'L'\n",
    "    L2 = L.data\n",
    "\n",
    "    print((L2 - L1)/h)\n",
    "lol()"
   ]
  },
  {
   "cell_type": "code",
   "execution_count": 16,
   "metadata": {},
   "outputs": [
    {
     "data": {
      "image/png": "[encoded data removed]",
      "text/plain": [
       "<Figure size 432x288 with 1 Axes>"
      ]
     },
     "metadata": {
      "needs_background": "light"
     },
     "output_type": "display_data"
    }
   ],
   "source": [
    "plt.plot(np.arange(-5,5,0.2), np.tanh(np.arange(-5, 5, 0.2))); plt.grid()"
   ]
  },
  {
   "cell_type": "code",
   "execution_count": null,
   "metadata": {},
   "outputs": [],
   "source": []
  }
 ],
 "metadata": {
  "kernelspec": {
   "display_name": "base",
   "language": "python",
   "name": "python3"
  },
  "language_info": {
   "codemirror_mode": {
    "name": "ipython",
    "version": 3
   },
   "file_extension": ".py",
   "mimetype": "text/x-python",
   "name": "python",
   "nbconvert_exporter": "python",
   "pygments_lexer": "ipython3",
   "version": "3.10.8"
  },
  "vscode": {
   "interpreter": {
    "hash": "aa99352128c151ce7b65c81941623bc904f435338a382feb7d8693aacef30c8b"
   }
  }
 },
 "nbformat": 4,
 "nbformat_minor": 4
}
